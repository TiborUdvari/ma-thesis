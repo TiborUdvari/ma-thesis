{
 "cells": [
  {
   "cell_type": "markdown",
   "id": "98ce07af-f16f-4868-96a9-a50cb027af3f",
   "metadata": {},
   "source": [
    "# Github commits dataset"
   ]
  },
  {
   "cell_type": "code",
   "execution_count": 4,
   "id": "e4650d64-5fd2-4293-899a-c6838c8f5eeb",
   "metadata": {},
   "outputs": [],
   "source": [
    "import json\n",
    "import requests\n",
    "import pandas as pd\n",
    "import numpy as np\n",
    "import config"
   ]
  },
  {
   "cell_type": "code",
   "execution_count": 5,
   "id": "7dc3c3db-bd65-449e-bc29-3378f5ddb36a",
   "metadata": {},
   "outputs": [],
   "source": [
    "github_api = \"https://api.github.com\"\n",
    "gh_session = requests.Session()\n",
    "gh_session.auth = (config.GITHUB_USERNAME, config.GITHUB_TOKEN)"
   ]
  },
  {
   "cell_type": "code",
   "execution_count": 6,
   "id": "5907c3af-a340-4960-beb8-d188f43dabb7",
   "metadata": {},
   "outputs": [],
   "source": [
    "url = github_api + '/repos/processing/processing4/commits'\n",
    "commits = gh_session.get(url = url)\n",
    "commits_json = commits.json()"
   ]
  },
  {
   "cell_type": "code",
   "execution_count": 7,
   "id": "a384c40b-e4a1-49de-9ec8-c56a76ff5d74",
   "metadata": {},
   "outputs": [],
   "source": [
    "def commits_of_repo_github(repo, owner, api):\n",
    "    commits = []\n",
    "    next = True\n",
    "    i = 1\n",
    "    while next == True:\n",
    "        url = api + '/repos/{}/{}/commits?page={}&per_page=100'.format(owner, repo, i)\n",
    "        commit_pg = gh_session.get(url = url)\n",
    "        commit_pg_list = [dict(item, **{'repo_name':'{}'.format(repo)}) for item in commit_pg.json()]    \n",
    "        commit_pg_list = [dict(item, **{'owner':'{}'.format(owner)}) for item in commit_pg_list]\n",
    "        commits = commits + commit_pg_list\n",
    "        if 'Link' in commit_pg.headers:\n",
    "            if 'rel=\"next\"' not in commit_pg.headers['Link']:\n",
    "                next = False\n",
    "        i = i + 1\n",
    "    return commits"
   ]
  },
  {
   "cell_type": "code",
   "execution_count": 8,
   "id": "20b4f099-0232-40c8-81e5-14d5b77e0f64",
   "metadata": {},
   "outputs": [],
   "source": [
    "commits = commits_of_repo_github(\"processing4\", \"processing\", \"https://api.github.com\")\n",
    "flat_commits = pd.json_normalize(commits)\n",
    "# df = pd.DataFrame(commits)\n",
    "# df.to_csv(\"processing-commits.csv\")\n",
    "df_flatcommits = pd.DataFrame(flat_commits)\n",
    "df_flatcommits.to_csv(\"processing-commits-flat.csv\")"
   ]
  }
 ],
 "metadata": {
  "kernelspec": {
   "display_name": "Python 3 (ipykernel)",
   "language": "python",
   "name": "python3"
  },
  "language_info": {
   "codemirror_mode": {
    "name": "ipython",
    "version": 3
   },
   "file_extension": ".py",
   "mimetype": "text/x-python",
   "name": "python",
   "nbconvert_exporter": "python",
   "pygments_lexer": "ipython3",
   "version": "3.10.11"
  }
 },
 "nbformat": 4,
 "nbformat_minor": 5
}
